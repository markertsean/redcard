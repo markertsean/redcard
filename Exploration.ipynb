{
 "cells": [
  {
   "cell_type": "code",
   "execution_count": 1,
   "metadata": {},
   "outputs": [],
   "source": [
    "input_file_path = 'redcard.csv.gz'"
   ]
  },
  {
   "cell_type": "markdown",
   "metadata": {},
   "source": [
    "## This exploration was done by Sean Markert, for the redCard data set. The purpose of the challenge is to check whether or not there is bias against darker skin players, and they recieve more red cards.\n",
    "\n",
    "\n",
    "- ### The table we have been provided looks at red cards awarded by refs to players. Each row is based off of a ref-player pair."
   ]
  },
  {
   "cell_type": "code",
   "execution_count": 2,
   "metadata": {},
   "outputs": [],
   "source": [
    "import numpy  as np\n",
    "import pandas as pd\n",
    "\n",
    "import matplotlib.pyplot as plt\n",
    "\n",
    "import seaborn as sns\n",
    "\n",
    "%matplotlib inline\n",
    "plt.style.use( 'dark_background' )\n",
    "plt.rcParams[ 'figure.figsize' ] = ( 14, 10 )"
   ]
  },
  {
   "cell_type": "code",
   "execution_count": null,
   "metadata": {},
   "outputs": [],
   "source": []
  },
  {
   "cell_type": "markdown",
   "metadata": {},
   "source": [
    "From the paper link:"
   ]
  },
  {
   "cell_type": "markdown",
   "metadata": {},
   "source": [
    "playerShort \n",
    "- short player ID\\\n",
    "\n",
    "player \n",
    "- player name\\\n",
    "\n",
    "club\n",
    "- player club\\\n",
    "\n",
    "leagueCountry\n",
    "- country of player club (England, Germany, France, and Spain)\\\n",
    "\n",
    "birthday\n",
    "- player birthday\\\n",
    "\n",
    "height\n",
    "- player height (in cm)\\\n",
    "\n",
    "weight\n",
    "- player weight (in kg)\\\n",
    "\n",
    "position\n",
    "- detailed player position \\\n",
    "\n",
    "games\n",
    "- number of games in the player-referee dyad\\\n",
    "\n",
    "victories\n",
    "- victories in the player-referee dyad\\\n",
    "\n",
    "ties\n",
    "- ties in the player-referee dyad\\\n",
    "\n",
    "defeats\n",
    "- losses in the player-referee dyad\\\n",
    "\n",
    "goals\n",
    "- goals scored by a player in the player-referee dyad\\\n",
    "\n",
    "yellowCards\n",
    "- number of yellow cards player received from referee\\\n",
    "\n",
    "yellowReds\n",
    "- number of yellow-red cards player received from referee\\\n",
    "\n",
    "redCards\n",
    "- number of red cards player received from referee\\\n",
    "\n",
    "photoID\n",
    "- ID of player photo (if available)\\\n",
    "\n",
    "rater1\n",
    "- skin rating of photo by rater 1 (5-point scale ranging from \\'93very light skin\\'94 to '93very dark skin\\'94)\\\n",
    "\n",
    "rater2\n",
    "- skin rating of photo by rater 2 (5-point scale ranging from \\'93very light skin\\'94 to \\'93very dark skin\\'94)\\\n",
    "\n",
    "refNum\n",
    "- unique referee ID number (referee name removed for anonymizing purposes)\\\n",
    "\n",
    "refCountry\n",
    "- unique referee country ID number (country name removed for anonymizing purposes)\\\n",
    "\n",
    "meanIAT\n",
    "- mean implicit bias score (using the race IAT) for referee country, higher values correspond to faster white | good, black | bad associations \\\n",
    "\n",
    "nIAT\n",
    "- sample size for race IAT in that particular country\\\n",
    "\n",
    "seIAT\n",
    "- standard error for mean estimate of race IAT       \\\n",
    "\n",
    "meanExp\n",
    "- mean explicit bias score (using a racial thermometer task) for referee country, higher values correspond to greater feelings of warmth toward whites versus blacks\\\n",
    "\n",
    "nExp\n",
    "- sample size for explicit bias in that particular country\\\n",
    "\n",
    "seExp\n",
    "- standard error for mean estimate of explicit bias measure\\\n"
   ]
  },
  {
   "cell_type": "markdown",
   "metadata": {},
   "source": [
    "The biggest thing we are going to want to look at to answer the question is:\n",
    "- ### yellowCards\n",
    "- ### yellowReds\n",
    "- ### redCards\n",
    "- ### rater1\n",
    "- ### rater2\n",
    "\n",
    "Things that will have a strong effect on this result will be:\n",
    "- refNum\n",
    "- refCountry\n",
    "- meanIAT\n",
    "- nIAT\n",
    "- nIAT\n",
    "- seIAT\n",
    "- meanExp\n",
    "- nExp\n",
    "- seExp"
   ]
  },
  {
   "cell_type": "code",
   "execution_count": null,
   "metadata": {},
   "outputs": [],
   "source": []
  },
  {
   "cell_type": "code",
   "execution_count": 3,
   "metadata": {},
   "outputs": [],
   "source": [
    "def group_bar_plot( data, column ):\n",
    "    group = data.groupby( [column] ).size().reset_index()\n",
    "    group['count'] = group[0]\n",
    "\n",
    "    fig, ax = plt.subplots( figsize=(14,10) )\n",
    "    sns.barplot( data=group, x=column, y='count', ax=ax )\n",
    "    plt.show()"
   ]
  },
  {
   "cell_type": "code",
   "execution_count": null,
   "metadata": {},
   "outputs": [],
   "source": []
  },
  {
   "cell_type": "markdown",
   "metadata": {},
   "source": [
    "Let's read in the data and have a look at it"
   ]
  },
  {
   "cell_type": "code",
   "execution_count": 4,
   "metadata": {},
   "outputs": [
    {
     "name": "stdout",
     "output_type": "stream",
     "text": [
      "(146028, 28)\n",
      "     playerShort         player             club leagueCountry    birthday  \\\n",
      "0  lucas-wilchez  Lucas Wilchez    Real Zaragoza         Spain  31.08.1983   \n",
      "1     john-utaka     John Utaka  Montpellier HSC        France  08.01.1982   \n",
      "2    abdon-prats    Abdón Prats     RCD Mallorca         Spain  17.12.1992   \n",
      "3     pablo-mari     Pablo Marí     RCD Mallorca         Spain  31.08.1993   \n",
      "4     ruben-pena     Rubén Peña  Real Valladolid         Spain  18.07.1991   \n",
      "\n",
      "   height  weight              position  games  victories    ...     rater2  \\\n",
      "0   177.0    72.0  Attacking Midfielder      1          0    ...       0.50   \n",
      "1   179.0    82.0          Right Winger      1          0    ...       0.75   \n",
      "2   181.0    79.0                   NaN      1          0    ...        NaN   \n",
      "3   191.0    87.0           Center Back      1          1    ...        NaN   \n",
      "4   172.0    70.0      Right Midfielder      1          1    ...        NaN   \n",
      "\n",
      "   refNum  refCountry  Alpha_3   meanIAT    nIAT     seIAT   meanExp    nExp  \\\n",
      "0       1           1      GRC  0.326391   712.0  0.000564  0.396000   750.0   \n",
      "1       2           2      ZMB  0.203375    40.0  0.010875 -0.204082    49.0   \n",
      "2       3           3      ESP  0.369894  1785.0  0.000229  0.588297  1897.0   \n",
      "3       3           3      ESP  0.369894  1785.0  0.000229  0.588297  1897.0   \n",
      "4       3           3      ESP  0.369894  1785.0  0.000229  0.588297  1897.0   \n",
      "\n",
      "      seExp  \n",
      "0  0.002696  \n",
      "1  0.061504  \n",
      "2  0.001002  \n",
      "3  0.001002  \n",
      "4  0.001002  \n",
      "\n",
      "[5 rows x 28 columns]\n"
     ]
    }
   ],
   "source": [
    "raw_df = pd.read_csv( input_file_path )\n",
    "\n",
    "print( raw_df.shape )\n",
    "print( raw_df.head() )"
   ]
  },
  {
   "cell_type": "markdown",
   "metadata": {},
   "source": [
    "That's a lot of players, and a fair amount of features"
   ]
  },
  {
   "cell_type": "code",
   "execution_count": 5,
   "metadata": {},
   "outputs": [
    {
     "data": {
      "text/plain": [
       "array(['playerShort', 'player', 'club', 'leagueCountry', 'birthday',\n",
       "       'height', 'weight', 'position', 'games', 'victories', 'ties',\n",
       "       'defeats', 'goals', 'yellowCards', 'yellowReds', 'redCards',\n",
       "       'photoID', 'rater1', 'rater2', 'refNum', 'refCountry', 'Alpha_3',\n",
       "       'meanIAT', 'nIAT', 'seIAT', 'meanExp', 'nExp', 'seExp'],\n",
       "      dtype=object)"
      ]
     },
     "execution_count": 5,
     "metadata": {},
     "output_type": "execute_result"
    }
   ],
   "source": [
    "raw_df.columns.values"
   ]
  },
  {
   "cell_type": "markdown",
   "metadata": {},
   "source": [
    "Now let's check for sparsity"
   ]
  },
  {
   "cell_type": "code",
   "execution_count": 6,
   "metadata": {},
   "outputs": [
    {
     "data": {
      "text/plain": [
       "playerShort          0\n",
       "player               0\n",
       "club                 0\n",
       "leagueCountry        0\n",
       "birthday             0\n",
       "height             263\n",
       "weight            2243\n",
       "position         17726\n",
       "games                0\n",
       "victories            0\n",
       "ties                 0\n",
       "defeats              0\n",
       "goals                0\n",
       "yellowCards          0\n",
       "yellowReds           0\n",
       "redCards             0\n",
       "photoID          21407\n",
       "rater1           21407\n",
       "rater2           21407\n",
       "refNum               0\n",
       "refCountry           0\n",
       "Alpha_3              1\n",
       "meanIAT            163\n",
       "nIAT               163\n",
       "seIAT              163\n",
       "meanExp            163\n",
       "nExp               163\n",
       "seExp              163\n",
       "dtype: int64"
      ]
     },
     "execution_count": 6,
     "metadata": {},
     "output_type": "execute_result"
    }
   ],
   "source": [
    "raw_df.isnull().sum()"
   ]
  },
  {
   "cell_type": "markdown",
   "metadata": {},
   "source": [
    "So we are missing some heights, weights, and positions. That shouldn't be too important for the question we were posed. \n",
    "\n",
    "The rater data is important for this question, so we will need to fill this data. If there are duplicate players, we can possibly fill these values, or at least use group by's to handle this.\n",
    "\n",
    "We are also missing some of the implicit bias normalization info. This may be an issue, but again may be able to handle this if there are duplicates in the data.\n",
    "\n",
    "Let's see if the player id's are unique"
   ]
  },
  {
   "cell_type": "code",
   "execution_count": 6,
   "metadata": {},
   "outputs": [
    {
     "name": "stdout",
     "output_type": "stream",
     "text": [
      "False\n",
      "2053\n",
      "146028\n"
     ]
    }
   ],
   "source": [
    "print( raw_df['playerShort'].unique().shape[0] == raw_df.shape[0] )\n",
    "print( raw_df['playerShort'].unique().shape[0]  )\n",
    "print( raw_df.shape[0] )"
   ]
  },
  {
   "cell_type": "markdown",
   "metadata": {},
   "source": [
    "These are not unique, but likely tied to a player's name. Let's check what kind of numbers we are working with by player."
   ]
  },
  {
   "cell_type": "code",
   "execution_count": 13,
   "metadata": {},
   "outputs": [
    {
     "name": "stdout",
     "output_type": "stream",
     "text": [
      "playerShort\n",
      "aaron-hughes              166\n",
      "aaron-hunt                 99\n",
      "aaron-lennon              101\n",
      "aaron-ramsey              104\n",
      "abdelhamid-el-kaoutari     37\n",
      "abdon-prats                33\n",
      "abdou-dampha               18\n",
      "abdou-traore_2             42\n",
      "abdoul-camara              67\n",
      "abdoulaye-diallo_2         20\n",
      "dtype: int64\n",
      "True\n"
     ]
    }
   ],
   "source": [
    "player_group = raw_df.groupby( 'playerShort' ).size()\n",
    "\n",
    "print( player_group.head(10) )\n",
    "print( player_group.sum() == raw_df.shape[0] )"
   ]
  },
  {
   "cell_type": "markdown",
   "metadata": {},
   "source": [
    "Alright, let's do the same for refs."
   ]
  },
  {
   "cell_type": "code",
   "execution_count": 14,
   "metadata": {},
   "outputs": [
    {
     "name": "stdout",
     "output_type": "stream",
     "text": [
      "3147\n",
      "refNum\n",
      "1       1\n",
      "2       1\n",
      "3       3\n",
      "4      30\n",
      "5       1\n",
      "6       9\n",
      "7     178\n",
      "8       1\n",
      "9       3\n",
      "10      1\n",
      "dtype: int64\n"
     ]
    }
   ],
   "source": [
    "ref_group = raw_df.groupby( 'refNum' ).size()\n",
    "\n",
    "print( raw_df['refNum'].unique().shape[0] )\n",
    "print( ref_group.head(10) )"
   ]
  },
  {
   "cell_type": "markdown",
   "metadata": {},
   "source": [
    "Some refs only have 1 game! This may make some of the calibrating for biases difficult if there is missing data.\n",
    "\n",
    "Let's move to visualizing some of these."
   ]
  },
  {
   "cell_type": "code",
   "execution_count": null,
   "metadata": {},
   "outputs": [],
   "source": []
  },
  {
   "cell_type": "markdown",
   "metadata": {},
   "source": [
    "We will start with red cards"
   ]
  },
  {
   "cell_type": "code",
   "execution_count": 45,
   "metadata": {},
   "outputs": [
    {
     "data": {
      "image/png": "[encoded data removed]",
      "text/plain": [
       "<Figure size 1008x720 with 1 Axes>"
      ]
     },
     "metadata": {},
     "output_type": "display_data"
    }
   ],
   "source": [
    "group_bar_plot( raw_df, 'redCards' )"
   ]
  },
  {
   "cell_type": "markdown",
   "metadata": {},
   "source": [
    "There are realtively few redcards in the data, with even fewer having more than 1.\n",
    "\n",
    "Now let's look at yellows"
   ]
  },
  {
   "cell_type": "code",
   "execution_count": 46,
   "metadata": {},
   "outputs": [
    {
     "data": {
      "image/png": "[encoded data removed]",
      "text/plain": [
       "<Figure size 1008x720 with 1 Axes>"
      ]
     },
     "metadata": {},
     "output_type": "display_data"
    }
   ],
   "source": [
    "group_bar_plot( raw_df, 'yellowCards' )"
   ]
  },
  {
   "cell_type": "markdown",
   "metadata": {},
   "source": [
    "Lots of yellow cards"
   ]
  },
  {
   "cell_type": "code",
   "execution_count": 49,
   "metadata": {
    "scrolled": false
   },
   "outputs": [
    {
     "data": {
      "image/png": "[encoded data removed]",
      "text/plain": [
       "<Figure size 1008x720 with 1 Axes>"
      ]
     },
     "metadata": {},
     "output_type": "display_data"
    }
   ],
   "source": [
    "group_bar_plot( raw_df, 'yellowReds' )"
   ]
  },
  {
   "cell_type": "markdown",
   "metadata": {},
   "source": [
    "Yellow reds is different than reds! We may want to consider the total number of reds"
   ]
  },
  {
   "cell_type": "code",
   "execution_count": 7,
   "metadata": {},
   "outputs": [
    {
     "data": {
      "image/png": "[encoded data removed]",
      "text/plain": [
       "<matplotlib.figure.Figure at 0x7f7acb505b70>"
      ]
     },
     "metadata": {},
     "output_type": "display_data"
    }
   ],
   "source": [
    "raw_df['tot_reds'] = raw_df['redCards'] + raw_df['yellowReds']\n",
    "group_bar_plot( raw_df, 'tot_reds' )"
   ]
  },
  {
   "cell_type": "markdown",
   "metadata": {},
   "source": [
    "Now let's look at skin color ratings"
   ]
  },
  {
   "cell_type": "code",
   "execution_count": 8,
   "metadata": {},
   "outputs": [
    {
     "data": {
      "image/png": "[encoded data removed]",
      "text/plain": [
       "<matplotlib.figure.Figure at 0x7f7ac8aa30f0>"
      ]
     },
     "metadata": {},
     "output_type": "display_data"
    }
   ],
   "source": [
    "raw_df['rater1'].plot.hist( bins=5 )\n",
    "plt.show()"
   ]
  },
  {
   "cell_type": "code",
   "execution_count": 10,
   "metadata": {},
   "outputs": [
    {
     "data": {
      "text/plain": [
       "1.0"
      ]
     },
     "execution_count": 10,
     "metadata": {},
     "output_type": "execute_result"
    }
   ],
   "source": [
    "np.max(raw_df['rater1'])"
   ]
  },
  {
   "cell_type": "code",
   "execution_count": 11,
   "metadata": {},
   "outputs": [
    {
     "data": {
      "text/plain": [
       "0.0"
      ]
     },
     "execution_count": 11,
     "metadata": {},
     "output_type": "execute_result"
    }
   ],
   "source": [
    "np.min(raw_df['rater1'])"
   ]
  },
  {
   "cell_type": "code",
   "execution_count": null,
   "metadata": {},
   "outputs": [],
   "source": []
  },
  {
   "cell_type": "code",
   "execution_count": null,
   "metadata": {},
   "outputs": [],
   "source": []
  },
  {
   "cell_type": "code",
   "execution_count": 54,
   "metadata": {},
   "outputs": [
    {
     "data": {
      "image/png": "[encoded data removed]",
      "text/plain": [
       "<Figure size 432x288 with 1 Axes>"
      ]
     },
     "metadata": {},
     "output_type": "display_data"
    }
   ],
   "source": [
    "raw_df['rater2'].plot.hist( bins=5 )\n",
    "plt.show()"
   ]
  },
  {
   "cell_type": "markdown",
   "metadata": {},
   "source": [
    "Looks like rater 1 and 2 differ, we probably want to consider an average."
   ]
  },
  {
   "cell_type": "code",
   "execution_count": 12,
   "metadata": {},
   "outputs": [
    {
     "data": {
      "image/png": "[encoded data removed]",
      "text/plain": [
       "<matplotlib.figure.Figure at 0x7f7ac95f05c0>"
      ]
     },
     "metadata": {},
     "output_type": "display_data"
    }
   ],
   "source": [
    "raw_df['rater_avg'] = ( raw_df['rater1'] + raw_df['rater2'] ) / 2.\n",
    "raw_df['rater_avg'].plot.hist( bins=5 )\n",
    "plt.show()"
   ]
  },
  {
   "cell_type": "markdown",
   "metadata": {},
   "source": [
    "Still a skewed distribution, but that's alright. We need some kind of single metric for this."
   ]
  },
  {
   "cell_type": "code",
   "execution_count": 13,
   "metadata": {},
   "outputs": [],
   "source": [
    "diff = abs(raw_df['rater1'] - raw_df['rater2'])"
   ]
  },
  {
   "cell_type": "code",
   "execution_count": 14,
   "metadata": {},
   "outputs": [
    {
     "data": {
      "text/plain": [
       "<matplotlib.axes._subplots.AxesSubplot at 0x7f7ac9105710>"
      ]
     },
     "execution_count": 14,
     "metadata": {},
     "output_type": "execute_result"
    },
    {
     "data": {
      "image/png": "[encoded data removed]",
      "text/plain": [
       "<matplotlib.figure.Figure at 0x7f7ac95bb710>"
      ]
     },
     "metadata": {},
     "output_type": "display_data"
    }
   ],
   "source": [
    "diff.hist()"
   ]
  },
  {
   "cell_type": "markdown",
   "metadata": {},
   "source": [
    "The raters tend to agree perfectly, disagreeing by one rating point on ~25% of the players.  An average score between the two will be just fine."
   ]
  },
  {
   "cell_type": "code",
   "execution_count": 15,
   "metadata": {
    "scrolled": true
   },
   "outputs": [
    {
     "data": {
      "text/plain": [
       "array([  1,   2,   3,   4,   5,   6,   7,   8,   9,  10,  11,  12,  13,\n",
       "        14,  15,  16,  17,  18,  19,  20,  21,  22,  23,  24,  25,  26,\n",
       "        27,  28,  29,  30,  31,  32,  33,  34,  35,  36,  37,  38,  39,\n",
       "        40,  41,  42,  43,  44,  45,  46,  47,  48,  49,  50,  51,  52,\n",
       "        53,  54,  55,  56,  57,  58,  59,  60,  61,  62,  63,  64,  65,\n",
       "        66,  67,  68,  69,  70,  71,  72,  73,  74,  75,  76,  77,  78,\n",
       "        79,  80,  81,  82,  83,  84,  85,  86,  87,  88,  89,  90,  91,\n",
       "        92,  93,  94,  95,  96,  97,  98,  99, 100, 101, 102, 103, 104,\n",
       "       105, 106, 107, 108, 109, 110, 111, 112, 113, 114, 115, 116, 117,\n",
       "       118, 119, 120, 121, 122, 123, 124, 125, 126, 127, 128, 129, 130,\n",
       "       131, 132, 133, 134, 135, 136, 137, 138, 139, 140, 141, 142, 143,\n",
       "       144, 145, 146, 147, 148, 149, 150, 151, 152, 153, 154, 155, 156,\n",
       "       157, 158, 159, 160, 161])"
      ]
     },
     "execution_count": 15,
     "metadata": {},
     "output_type": "execute_result"
    }
   ],
   "source": [
    "raw_df['refCountry'].unique()"
   ]
  },
  {
   "cell_type": "markdown",
   "metadata": {},
   "source": [
    "That's a lot of different countries. Let's have a look at the distribution"
   ]
  },
  {
   "cell_type": "code",
   "execution_count": 48,
   "metadata": {},
   "outputs": [
    {
     "data": {
      "image/png": "[encoded data removed]",
      "text/plain": [
       "<Figure size 1008x720 with 1 Axes>"
      ]
     },
     "metadata": {},
     "output_type": "display_data"
    }
   ],
   "source": [
    "group_bar_plot( raw_df, 'refCountry' )"
   ]
  },
  {
   "cell_type": "code",
   "execution_count": 33,
   "metadata": {},
   "outputs": [
    {
     "data": {
      "image/png": "[encoded data removed]",
      "text/plain": [
       "<Figure size 1008x720 with 1 Axes>"
      ]
     },
     "metadata": {},
     "output_type": "display_data"
    }
   ],
   "source": [
    "country_group = raw_df.groupby( ['refCountry'] ).size().reset_index()\n",
    "country_group['count'] = country_group[0]\n",
    "\n",
    "ind = country_group['count'] > 1000\n",
    "\n",
    "fig, ax = plt.subplots( figsize=(14,10) )\n",
    "sns.barplot( data=country_group.loc[ind,:], x='refCountry', y='count', ax=ax )\n",
    "plt.show()"
   ]
  },
  {
   "cell_type": "markdown",
   "metadata": {},
   "source": [
    "Only a handful of countries have more than 1000 games reffed. The vast majority is below this number"
   ]
  },
  {
   "cell_type": "code",
   "execution_count": 29,
   "metadata": {},
   "outputs": [
    {
     "data": {
      "text/plain": [
       "Index(['playerShort', 'player', 'club', 'leagueCountry', 'birthday', 'height',\n",
       "       'weight', 'position', 'games', 'victories', 'ties', 'defeats', 'goals',\n",
       "       'yellowCards', 'yellowReds', 'redCards', 'photoID', 'rater1', 'rater2',\n",
       "       'refNum', 'refCountry', 'Alpha_3', 'meanIAT', 'nIAT', 'seIAT',\n",
       "       'meanExp', 'nExp', 'seExp', 'tot_reds', 'rater_avg'],\n",
       "      dtype='object')"
      ]
     },
     "execution_count": 29,
     "metadata": {},
     "output_type": "execute_result"
    }
   ],
   "source": [
    "df=raw_df\n",
    "df.columns"
   ]
  },
  {
   "cell_type": "code",
   "execution_count": 25,
   "metadata": {},
   "outputs": [],
   "source": [
    "players = df.groupby('playerShort')"
   ]
  },
  {
   "cell_type": "code",
   "execution_count": 27,
   "metadata": {},
   "outputs": [],
   "source": [
    "pos=players.position.first()"
   ]
  },
  {
   "cell_type": "code",
   "execution_count": 28,
   "metadata": {},
   "outputs": [
    {
     "data": {
      "text/plain": [
       "pandas.core.series.Series"
      ]
     },
     "execution_count": 28,
     "metadata": {},
     "output_type": "execute_result"
    }
   ],
   "source": [
    "type(pos)"
   ]
  },
  {
   "cell_type": "code",
   "execution_count": 65,
   "metadata": {},
   "outputs": [],
   "source": [
    "height = players.height.mean()\n",
    "weight = players.weight.mean()\n",
    "tot_reds = players.tot_reds.sum()\n",
    "rating = players.rater_avg.mean()\n",
    "names = players.playerShort.first()"
   ]
  },
  {
   "cell_type": "code",
   "execution_count": 66,
   "metadata": {},
   "outputs": [
    {
     "data": {
      "text/plain": [
       "(2053,)"
      ]
     },
     "execution_count": 66,
     "metadata": {},
     "output_type": "execute_result"
    }
   ],
   "source": [
    "names.shape"
   ]
  },
  {
   "cell_type": "code",
   "execution_count": 78,
   "metadata": {},
   "outputs": [
    {
     "data": {
      "text/plain": [
       "playerShort\n",
       "aaron-hughes                        aaron-hughes\n",
       "aaron-hunt                            aaron-hunt\n",
       "aaron-lennon                        aaron-lennon\n",
       "aaron-ramsey                        aaron-ramsey\n",
       "abdelhamid-el-kaoutari    abdelhamid-el-kaoutari\n",
       "abdon-prats                          abdon-prats\n",
       "abdou-dampha                        abdou-dampha\n",
       "abdou-traore_2                    abdou-traore_2\n",
       "abdoul-camara                      abdoul-camara\n",
       "abdoulaye-diallo_2            abdoulaye-diallo_2\n",
       "abdoulaye-diallo_3            abdoulaye-diallo_3\n",
       "abdoulaye-keita_2              abdoulaye-keita_2\n",
       "abdoulaye-sane                    abdoulaye-sane\n",
       "abdoulwhaid-sissoko          abdoulwhaid-sissoko\n",
       "abdul-rahman-baba              abdul-rahman-baba\n",
       "Name: playerShort, dtype: object"
      ]
     },
     "execution_count": 78,
     "metadata": {},
     "output_type": "execute_result"
    }
   ],
   "source": [
    "names[0:15]"
   ]
  },
  {
   "cell_type": "code",
   "execution_count": 76,
   "metadata": {},
   "outputs": [
    {
     "data": {
      "text/plain": [
       "'aaron-hughes'"
      ]
     },
     "execution_count": 76,
     "metadata": {},
     "output_type": "execute_result"
    }
   ],
   "source": [
    "names[0]"
   ]
  },
  {
   "cell_type": "code",
   "execution_count": null,
   "metadata": {},
   "outputs": [],
   "source": []
  },
  {
   "cell_type": "code",
   "execution_count": null,
   "metadata": {},
   "outputs": [],
   "source": []
  },
  {
   "cell_type": "code",
   "execution_count": null,
   "metadata": {},
   "outputs": [],
   "source": []
  },
  {
   "cell_type": "code",
   "execution_count": null,
   "metadata": {},
   "outputs": [],
   "source": []
  },
  {
   "cell_type": "code",
   "execution_count": null,
   "metadata": {},
   "outputs": [],
   "source": []
  },
  {
   "cell_type": "code",
   "execution_count": null,
   "metadata": {},
   "outputs": [],
   "source": []
  },
  {
   "cell_type": "code",
   "execution_count": 81,
   "metadata": {},
   "outputs": [],
   "source": [
    "df=pd.DataFrame()"
   ]
  },
  {
   "cell_type": "code",
   "execution_count": 82,
   "metadata": {},
   "outputs": [],
   "source": [
    "df['names'] = names"
   ]
  },
  {
   "cell_type": "code",
   "execution_count": 83,
   "metadata": {},
   "outputs": [],
   "source": [
    "df['height'] = height"
   ]
  },
  {
   "cell_type": "code",
   "execution_count": 84,
   "metadata": {},
   "outputs": [],
   "source": [
    "df['tot_reds'] = tot_reds"
   ]
  },
  {
   "cell_type": "code",
   "execution_count": 85,
   "metadata": {},
   "outputs": [],
   "source": [
    "df['rating'] = rating"
   ]
  },
  {
   "cell_type": "code",
   "execution_count": 86,
   "metadata": {},
   "outputs": [],
   "source": [
    "df['weight'] = weight"
   ]
  },
  {
   "cell_type": "code",
   "execution_count": 87,
   "metadata": {},
   "outputs": [
    {
     "data": {
      "text/plain": [
       "(2053, 5)"
      ]
     },
     "execution_count": 87,
     "metadata": {},
     "output_type": "execute_result"
    }
   ],
   "source": [
    "df.shape"
   ]
  },
  {
   "cell_type": "code",
   "execution_count": 88,
   "metadata": {},
   "outputs": [
    {
     "data": {
      "text/plain": [
       "Index(['names', 'height', 'tot_reds', 'rating', 'weight'], dtype='object')"
      ]
     },
     "execution_count": 88,
     "metadata": {},
     "output_type": "execute_result"
    }
   ],
   "source": [
    "df.columns"
   ]
  },
  {
   "cell_type": "code",
   "execution_count": 89,
   "metadata": {},
   "outputs": [
    {
     "data": {
      "text/plain": [
       "'aaron-hughes'"
      ]
     },
     "execution_count": 89,
     "metadata": {},
     "output_type": "execute_result"
    }
   ],
   "source": [
    "df.iloc[0,0]"
   ]
  },
  {
   "cell_type": "code",
   "execution_count": 91,
   "metadata": {},
   "outputs": [
    {
     "data": {
      "text/plain": [
       "array([0.125, 0.25 , 0.   ,   nan, 0.75 , 0.875, 1.   , 0.375, 0.5  ,\n",
       "       0.625])"
      ]
     },
     "execution_count": 91,
     "metadata": {},
     "output_type": "execute_result"
    }
   ],
   "source": [
    "df['rating'].unique()"
   ]
  },
  {
   "cell_type": "code",
   "execution_count": 100,
   "metadata": {},
   "outputs": [
    {
     "data": {
      "text/plain": [
       "0"
      ]
     },
     "execution_count": 100,
     "metadata": {},
     "output_type": "execute_result"
    }
   ],
   "source": [
    "raw_df[raw_df.rater1.notnull() & raw_df.rater2.isnull()].player.count()"
   ]
  },
  {
   "cell_type": "code",
   "execution_count": 101,
   "metadata": {},
   "outputs": [
    {
     "data": {
      "text/plain": [
       "0"
      ]
     },
     "execution_count": 101,
     "metadata": {},
     "output_type": "execute_result"
    }
   ],
   "source": [
    "raw_df[raw_df.rater1.isnull() & raw_df.rater2.notnull()].player.count()"
   ]
  },
  {
   "cell_type": "markdown",
   "metadata": {},
   "source": [
    "Great, a player has either two skin ratings or none.  Drop those missing a skin tone rating"
   ]
  },
  {
   "cell_type": "code",
   "execution_count": 103,
   "metadata": {},
   "outputs": [],
   "source": [
    "df.dropna(subset=['rating'], axis=0, inplace=True)"
   ]
  },
  {
   "cell_type": "code",
   "execution_count": 104,
   "metadata": {},
   "outputs": [
    {
     "data": {
      "text/plain": [
       "(1585, 5)"
      ]
     },
     "execution_count": 104,
     "metadata": {},
     "output_type": "execute_result"
    }
   ],
   "source": [
    "df.shape"
   ]
  },
  {
   "cell_type": "code",
   "execution_count": 105,
   "metadata": {},
   "outputs": [
    {
     "data": {
      "text/plain": [
       "array([0.125, 0.25 , 0.   , 0.75 , 0.875, 1.   , 0.375, 0.5  , 0.625])"
      ]
     },
     "execution_count": 105,
     "metadata": {},
     "output_type": "execute_result"
    }
   ],
   "source": [
    "df.rating.unique()"
   ]
  },
  {
   "cell_type": "code",
   "execution_count": 115,
   "metadata": {},
   "outputs": [],
   "source": [
    "avg_cards = {}\n",
    "pop_count = {}\n",
    "for tone in df.rating.unique():\n",
    "    avg_cards[tone] = df[df.rating==tone].tot_reds.sum()/df[df.rating==tone].rating.count()\n",
    "    pop_count[tone] = df[df.rating==tone].rating.count()"
   ]
  },
  {
   "cell_type": "code",
   "execution_count": 110,
   "metadata": {},
   "outputs": [
    {
     "data": {
      "text/plain": [
       "{0.0: 1.794811320754717,\n",
       " 0.125: 1.7312775330396475,\n",
       " 0.25: 2.2012711864406778,\n",
       " 0.375: 2.25974025974026,\n",
       " 0.5: 1.9051724137931034,\n",
       " 0.625: 1.1515151515151516,\n",
       " 0.75: 1.7211538461538463,\n",
       " 0.875: 1.825,\n",
       " 1.0: 2.3260869565217392}"
      ]
     },
     "execution_count": 110,
     "metadata": {},
     "output_type": "execute_result"
    }
   ],
   "source": [
    "avg_cards"
   ]
  },
  {
   "cell_type": "code",
   "execution_count": 111,
   "metadata": {},
   "outputs": [],
   "source": [
    "cards_per_player = pd.Series(avg_cards)"
   ]
  },
  {
   "cell_type": "code",
   "execution_count": 114,
   "metadata": {},
   "outputs": [
    {
     "data": {
      "text/plain": [
       "<matplotlib.axes._subplots.AxesSubplot at 0x7f7ab5afaa20>"
      ]
     },
     "execution_count": 114,
     "metadata": {},
     "output_type": "execute_result"
    },
    {
     "data": {
      "image/png": "[encoded data removed]",
      "text/plain": [
       "<matplotlib.figure.Figure at 0x7f7ab5b1e4e0>"
      ]
     },
     "metadata": {},
     "output_type": "display_data"
    }
   ],
   "source": [
    "cards_per_player.plot()"
   ]
  },
  {
   "cell_type": "code",
   "execution_count": 116,
   "metadata": {},
   "outputs": [
    {
     "data": {
      "text/plain": [
       "{0.0: 424,\n",
       " 0.125: 227,\n",
       " 0.25: 472,\n",
       " 0.375: 77,\n",
       " 0.5: 116,\n",
       " 0.625: 33,\n",
       " 0.75: 104,\n",
       " 0.875: 40,\n",
       " 1.0: 92}"
      ]
     },
     "execution_count": 116,
     "metadata": {},
     "output_type": "execute_result"
    }
   ],
   "source": [
    "pop_count"
   ]
  },
  {
   "cell_type": "code",
   "execution_count": 118,
   "metadata": {},
   "outputs": [],
   "source": [
    "df['skin'] = 'M'"
   ]
  },
  {
   "cell_type": "code",
   "execution_count": 119,
   "metadata": {},
   "outputs": [],
   "source": [
    "df.loc[df.rating < 0.25, 'skin'] = 'L'"
   ]
  },
  {
   "cell_type": "code",
   "execution_count": 120,
   "metadata": {},
   "outputs": [],
   "source": [
    "df.loc[df.rating > 0.375, 'skin'] = 'D'"
   ]
  },
  {
   "cell_type": "code",
   "execution_count": 122,
   "metadata": {},
   "outputs": [
    {
     "data": {
      "text/plain": [
       "playerShort\n",
       "aaron-hughes              L\n",
       "aaron-hunt                L\n",
       "aaron-lennon              M\n",
       "aaron-ramsey              L\n",
       "abdelhamid-el-kaoutari    M\n",
       "abdou-traore_2            D\n",
       "abdoulaye-diallo_2        D\n",
       "abdoulaye-keita_2         D\n",
       "abdoulwhaid-sissoko       D\n",
       "abdul-rahman-baba         D\n",
       "abdul-razak               D\n",
       "abel-aguilar              M\n",
       "abelaziz-barrada          L\n",
       "abou-diaby                D\n",
       "adam-bodzek               M\n",
       "Name: skin, dtype: object"
      ]
     },
     "execution_count": 122,
     "metadata": {},
     "output_type": "execute_result"
    }
   ],
   "source": [
    "df['skin'][0:15]"
   ]
  },
  {
   "cell_type": "code",
   "execution_count": 152,
   "metadata": {},
   "outputs": [],
   "source": [
    "skins = ['L','M','D']\n",
    "cards=[]\n",
    "for s in skins:\n",
    "    cards.append(np.mean(df[df.skin==s].tot_reds))"
   ]
  },
  {
   "cell_type": "code",
   "execution_count": 146,
   "metadata": {},
   "outputs": [
    {
     "data": {
      "text/plain": [
       "[1.7726574500768049, 2.209471766848816, 1.8831168831168832]"
      ]
     },
     "execution_count": 146,
     "metadata": {},
     "output_type": "execute_result"
    }
   ],
   "source": [
    "cards"
   ]
  },
  {
   "cell_type": "code",
   "execution_count": 153,
   "metadata": {},
   "outputs": [],
   "source": [
    "cards=pd.Series(cards,index=skins)"
   ]
  },
  {
   "cell_type": "code",
   "execution_count": 151,
   "metadata": {},
   "outputs": [
    {
     "data": {
      "text/plain": [
       "<matplotlib.axes._subplots.AxesSubplot at 0x7f7ab4aec908>"
      ]
     },
     "execution_count": 151,
     "metadata": {},
     "output_type": "execute_result"
    },
    {
     "data": {
      "image/png": "[encoded data removed]",
      "text/plain": [
       "<matplotlib.figure.Figure at 0x7f7ab4a8ffd0>"
      ]
     },
     "metadata": {},
     "output_type": "display_data"
    }
   ],
   "source": [
    "sns.barplot(x=cards)"
   ]
  },
  {
   "cell_type": "code",
   "execution_count": null,
   "metadata": {},
   "outputs": [],
   "source": []
  },
  {
   "cell_type": "code",
   "execution_count": 154,
   "metadata": {},
   "outputs": [],
   "source": [
    "cards = pd.DataFrame(cards)"
   ]
  },
  {
   "cell_type": "code",
   "execution_count": 137,
   "metadata": {},
   "outputs": [
    {
     "data": {
      "text/html": [
       "<div>\n",
       "<style scoped>\n",
       "    .dataframe tbody tr th:only-of-type {\n",
       "        vertical-align: middle;\n",
       "    }\n",
       "\n",
       "    .dataframe tbody tr th {\n",
       "        vertical-align: top;\n",
       "    }\n",
       "\n",
       "    .dataframe thead th {\n",
       "        text-align: right;\n",
       "    }\n",
       "</style>\n",
       "<table border=\"1\" class=\"dataframe\">\n",
       "  <thead>\n",
       "    <tr style=\"text-align: right;\">\n",
       "      <th></th>\n",
       "      <th>0</th>\n",
       "    </tr>\n",
       "  </thead>\n",
       "  <tbody>\n",
       "    <tr>\n",
       "      <th>L</th>\n",
       "      <td>1.772657</td>\n",
       "    </tr>\n",
       "    <tr>\n",
       "      <th>M</th>\n",
       "      <td>2.209472</td>\n",
       "    </tr>\n",
       "    <tr>\n",
       "      <th>D</th>\n",
       "      <td>1.883117</td>\n",
       "    </tr>\n",
       "  </tbody>\n",
       "</table>\n",
       "</div>"
      ],
      "text/plain": [
       "          0\n",
       "L  1.772657\n",
       "M  2.209472\n",
       "D  1.883117"
      ]
     },
     "execution_count": 137,
     "metadata": {},
     "output_type": "execute_result"
    }
   ],
   "source": [
    "cards"
   ]
  },
  {
   "cell_type": "code",
   "execution_count": 158,
   "metadata": {},
   "outputs": [
    {
     "data": {
      "text/html": [
       "<div>\n",
       "<style scoped>\n",
       "    .dataframe tbody tr th:only-of-type {\n",
       "        vertical-align: middle;\n",
       "    }\n",
       "\n",
       "    .dataframe tbody tr th {\n",
       "        vertical-align: top;\n",
       "    }\n",
       "\n",
       "    .dataframe thead th {\n",
       "        text-align: right;\n",
       "    }\n",
       "</style>\n",
       "<table border=\"1\" class=\"dataframe\">\n",
       "  <thead>\n",
       "    <tr style=\"text-align: right;\">\n",
       "      <th></th>\n",
       "      <th>index</th>\n",
       "      <th>0</th>\n",
       "    </tr>\n",
       "  </thead>\n",
       "  <tbody>\n",
       "    <tr>\n",
       "      <th>0</th>\n",
       "      <td>L</td>\n",
       "      <td>1.772657</td>\n",
       "    </tr>\n",
       "    <tr>\n",
       "      <th>1</th>\n",
       "      <td>M</td>\n",
       "      <td>2.209472</td>\n",
       "    </tr>\n",
       "    <tr>\n",
       "      <th>2</th>\n",
       "      <td>D</td>\n",
       "      <td>1.883117</td>\n",
       "    </tr>\n",
       "  </tbody>\n",
       "</table>\n",
       "</div>"
      ],
      "text/plain": [
       "  index         0\n",
       "0     L  1.772657\n",
       "1     M  2.209472\n",
       "2     D  1.883117"
      ]
     },
     "execution_count": 158,
     "metadata": {},
     "output_type": "execute_result"
    }
   ],
   "source": [
    "cards.reset_index()"
   ]
  },
  {
   "cell_type": "code",
   "execution_count": 175,
   "metadata": {},
   "outputs": [],
   "source": [
    "cards.rename(columns={0:'cards'},inplace=True)"
   ]
  },
  {
   "cell_type": "code",
   "execution_count": 172,
   "metadata": {},
   "outputs": [],
   "source": [
    "cards=cards.reset_index()"
   ]
  },
  {
   "cell_type": "code",
   "execution_count": 173,
   "metadata": {},
   "outputs": [],
   "source": [
    "cards.rename(columns={'index':'tone'},inplace=True)"
   ]
  },
  {
   "cell_type": "code",
   "execution_count": 176,
   "metadata": {},
   "outputs": [
    {
     "data": {
      "text/html": [
       "<div>\n",
       "<style scoped>\n",
       "    .dataframe tbody tr th:only-of-type {\n",
       "        vertical-align: middle;\n",
       "    }\n",
       "\n",
       "    .dataframe tbody tr th {\n",
       "        vertical-align: top;\n",
       "    }\n",
       "\n",
       "    .dataframe thead th {\n",
       "        text-align: right;\n",
       "    }\n",
       "</style>\n",
       "<table border=\"1\" class=\"dataframe\">\n",
       "  <thead>\n",
       "    <tr style=\"text-align: right;\">\n",
       "      <th></th>\n",
       "      <th>tone</th>\n",
       "      <th>cards</th>\n",
       "    </tr>\n",
       "  </thead>\n",
       "  <tbody>\n",
       "    <tr>\n",
       "      <th>0</th>\n",
       "      <td>L</td>\n",
       "      <td>1.772657</td>\n",
       "    </tr>\n",
       "    <tr>\n",
       "      <th>1</th>\n",
       "      <td>M</td>\n",
       "      <td>2.209472</td>\n",
       "    </tr>\n",
       "    <tr>\n",
       "      <th>2</th>\n",
       "      <td>D</td>\n",
       "      <td>1.883117</td>\n",
       "    </tr>\n",
       "  </tbody>\n",
       "</table>\n",
       "</div>"
      ],
      "text/plain": [
       "  tone     cards\n",
       "0    L  1.772657\n",
       "1    M  2.209472\n",
       "2    D  1.883117"
      ]
     },
     "execution_count": 176,
     "metadata": {},
     "output_type": "execute_result"
    }
   ],
   "source": [
    "cards"
   ]
  },
  {
   "cell_type": "code",
   "execution_count": 177,
   "metadata": {},
   "outputs": [
    {
     "data": {
      "text/plain": [
       "<matplotlib.axes._subplots.AxesSubplot at 0x7f7ab49e1208>"
      ]
     },
     "execution_count": 177,
     "metadata": {},
     "output_type": "execute_result"
    },
    {
     "data": {
      "image/png": "[encoded data removed]",
      "text/plain": [
       "<matplotlib.figure.Figure at 0x7f7ab49d5a20>"
      ]
     },
     "metadata": {},
     "output_type": "display_data"
    }
   ],
   "source": [
    "sns.barplot(x='tone',y='cards',data=cards)"
   ]
  },
  {
   "cell_type": "code",
   "execution_count": null,
   "metadata": {},
   "outputs": [],
   "source": []
  },
  {
   "cell_type": "code",
   "execution_count": null,
   "metadata": {},
   "outputs": [],
   "source": []
  },
  {
   "cell_type": "code",
   "execution_count": null,
   "metadata": {},
   "outputs": [],
   "source": []
  }
 ],
 "metadata": {
  "kernelspec": {
   "display_name": "Python 3",
   "language": "python",
   "name": "python3"
  },
  "language_info": {
   "codemirror_mode": {
    "name": "ipython",
    "version": 3
   },
   "file_extension": ".py",
   "mimetype": "text/x-python",
   "name": "python",
   "nbconvert_exporter": "python",
   "pygments_lexer": "ipython3",
   "version": "3.6.4"
  }
 },
 "nbformat": 4,
 "nbformat_minor": 2
}
