{
 "cells": [
  {
   "cell_type": "code",
   "execution_count": 1,
   "metadata": {},
   "outputs": [],
   "source": [
    "input_file_path = 'redcard.csv'"
   ]
  },
  {
   "cell_type": "markdown",
   "metadata": {},
   "source": [
    "## This exploration was done by Sean Markert, for the redCard data set. The purpose of the challenge is to check whether or not there is bias against darker skin players, and they recieve more red cards.\n",
    "\n",
    "\n",
    "- ### The table we have been provided looks at red cards awarded by refs to players. Each row is based off of a ref-player pair."
   ]
  },
  {
   "cell_type": "code",
   "execution_count": 2,
   "metadata": {},
   "outputs": [],
   "source": [
    "import numpy  as np\n",
    "import pandas as pd\n",
    "\n",
    "import matplotlib.pyplot as plt\n",
    "\n",
    "import seaborn as sns\n",
    "\n",
    "%matplotlib inline\n",
    "plt.style.use( 'dark_background' )\n",
    "plt.rcParams[ 'figure.figsize' ] = ( 14, 10 )"
   ]
  },
  {
   "cell_type": "code",
   "execution_count": null,
   "metadata": {},
   "outputs": [],
   "source": []
  },
  {
   "cell_type": "markdown",
   "metadata": {},
   "source": [
    "From the paper link:"
   ]
  },
  {
   "cell_type": "markdown",
   "metadata": {},
   "source": [
    "playerShort \n",
    "- short player ID\\\n",
    "\n",
    "player \n",
    "- player name\\\n",
    "\n",
    "club\n",
    "- player club\\\n",
    "\n",
    "leagueCountry\n",
    "- country of player club (England, Germany, France, and Spain)\\\n",
    "\n",
    "birthday\n",
    "- player birthday\\\n",
    "\n",
    "height\n",
    "- player height (in cm)\\\n",
    "\n",
    "weight\n",
    "- player weight (in kg)\\\n",
    "\n",
    "position\n",
    "- detailed player position \\\n",
    "\n",
    "games\n",
    "- number of games in the player-referee dyad\\\n",
    "\n",
    "victories\n",
    "- victories in the player-referee dyad\\\n",
    "\n",
    "ties\n",
    "- ties in the player-referee dyad\\\n",
    "\n",
    "defeats\n",
    "- losses in the player-referee dyad\\\n",
    "\n",
    "goals\n",
    "- goals scored by a player in the player-referee dyad\\\n",
    "\n",
    "yellowCards\n",
    "- number of yellow cards player received from referee\\\n",
    "\n",
    "yellowReds\n",
    "- number of yellow-red cards player received from referee\\\n",
    "\n",
    "redCards\n",
    "- number of red cards player received from referee\\\n",
    "\n",
    "photoID\n",
    "- ID of player photo (if available)\\\n",
    "\n",
    "rater1\n",
    "- skin rating of photo by rater 1 (5-point scale ranging from \\'93very light skin\\'94 to '93very dark skin\\'94)\\\n",
    "\n",
    "rater2\n",
    "- skin rating of photo by rater 2 (5-point scale ranging from \\'93very light skin\\'94 to \\'93very dark skin\\'94)\\\n",
    "\n",
    "refNum\n",
    "- unique referee ID number (referee name removed for anonymizing purposes)\\\n",
    "\n",
    "refCountry\n",
    "- unique referee country ID number (country name removed for anonymizing purposes)\\\n",
    "\n",
    "meanIAT\n",
    "- mean implicit bias score (using the race IAT) for referee country, higher values correspond to faster white | good, black | bad associations \\\n",
    "\n",
    "nIAT\n",
    "- sample size for race IAT in that particular country\\\n",
    "\n",
    "seIAT\n",
    "- standard error for mean estimate of race IAT       \\\n",
    "\n",
    "meanExp\n",
    "- mean explicit bias score (using a racial thermometer task) for referee country, higher values correspond to greater feelings of warmth toward whites versus blacks\\\n",
    "\n",
    "nExp\n",
    "- sample size for explicit bias in that particular country\\\n",
    "\n",
    "seExp\n",
    "- standard error for mean estimate of explicit bias measure\\\n"
   ]
  },
  {
   "cell_type": "markdown",
   "metadata": {},
   "source": [
    "The biggest thing we are going to want to look at to answer the question is:\n",
    "- ### yellowCards\n",
    "- ### yellowReds\n",
    "- ### redCards\n",
    "- ### rater1\n",
    "- ### rater2\n",
    "\n",
    "Things that will have a strong effect on this result will be:\n",
    "- refNum\n",
    "- refCountry\n",
    "- meanIAT\n",
    "- nIAT\n",
    "- nIAT\n",
    "- seIAT\n",
    "- meanExp\n",
    "- nExp\n",
    "- seExp"
   ]
  },
  {
   "cell_type": "code",
   "execution_count": null,
   "metadata": {},
   "outputs": [],
   "source": []
  },
  {
   "cell_type": "markdown",
   "metadata": {},
   "source": [
    "Let's read in the data and have a look at it"
   ]
  },
  {
   "cell_type": "code",
   "execution_count": 3,
   "metadata": {},
   "outputs": [
    {
     "name": "stdout",
     "output_type": "stream",
     "text": [
      "(146028, 28)\n",
      "     playerShort         player             club leagueCountry    birthday  \\\n",
      "0  lucas-wilchez  Lucas Wilchez    Real Zaragoza         Spain  31.08.1983   \n",
      "1     john-utaka     John Utaka  Montpellier HSC        France  08.01.1982   \n",
      "2    abdon-prats    Abdón Prats     RCD Mallorca         Spain  17.12.1992   \n",
      "3     pablo-mari     Pablo Marí     RCD Mallorca         Spain  31.08.1993   \n",
      "4     ruben-pena     Rubén Peña  Real Valladolid         Spain  18.07.1991   \n",
      "\n",
      "   height  weight              position  games  victories    ...     rater2  \\\n",
      "0   177.0    72.0  Attacking Midfielder      1          0    ...       0.50   \n",
      "1   179.0    82.0          Right Winger      1          0    ...       0.75   \n",
      "2   181.0    79.0                   NaN      1          0    ...        NaN   \n",
      "3   191.0    87.0           Center Back      1          1    ...        NaN   \n",
      "4   172.0    70.0      Right Midfielder      1          1    ...        NaN   \n",
      "\n",
      "   refNum  refCountry  Alpha_3   meanIAT    nIAT     seIAT   meanExp    nExp  \\\n",
      "0       1           1      GRC  0.326391   712.0  0.000564  0.396000   750.0   \n",
      "1       2           2      ZMB  0.203375    40.0  0.010875 -0.204082    49.0   \n",
      "2       3           3      ESP  0.369894  1785.0  0.000229  0.588297  1897.0   \n",
      "3       3           3      ESP  0.369894  1785.0  0.000229  0.588297  1897.0   \n",
      "4       3           3      ESP  0.369894  1785.0  0.000229  0.588297  1897.0   \n",
      "\n",
      "      seExp  \n",
      "0  0.002696  \n",
      "1  0.061504  \n",
      "2  0.001002  \n",
      "3  0.001002  \n",
      "4  0.001002  \n",
      "\n",
      "[5 rows x 28 columns]\n"
     ]
    }
   ],
   "source": [
    "raw_df = pd.read_csv( input_file_path )\n",
    "\n",
    "print( raw_df.shape )\n",
    "print( raw_df.head() )"
   ]
  },
  {
   "cell_type": "markdown",
   "metadata": {},
   "source": [
    "That's a lot of players, and a fair amount of features"
   ]
  },
  {
   "cell_type": "code",
   "execution_count": 4,
   "metadata": {},
   "outputs": [
    {
     "data": {
      "text/plain": [
       "array(['playerShort', 'player', 'club', 'leagueCountry', 'birthday',\n",
       "       'height', 'weight', 'position', 'games', 'victories', 'ties',\n",
       "       'defeats', 'goals', 'yellowCards', 'yellowReds', 'redCards',\n",
       "       'photoID', 'rater1', 'rater2', 'refNum', 'refCountry', 'Alpha_3',\n",
       "       'meanIAT', 'nIAT', 'seIAT', 'meanExp', 'nExp', 'seExp'],\n",
       "      dtype=object)"
      ]
     },
     "execution_count": 4,
     "metadata": {},
     "output_type": "execute_result"
    }
   ],
   "source": [
    "raw_df.columns.values"
   ]
  },
  {
   "cell_type": "markdown",
   "metadata": {},
   "source": [
    "Now let's check for sparsity"
   ]
  },
  {
   "cell_type": "code",
   "execution_count": 7,
   "metadata": {},
   "outputs": [
    {
     "data": {
      "text/plain": [
       "playerShort          0\n",
       "player               0\n",
       "club                 0\n",
       "leagueCountry        0\n",
       "birthday             0\n",
       "height             263\n",
       "weight            2243\n",
       "position         17726\n",
       "games                0\n",
       "victories            0\n",
       "ties                 0\n",
       "defeats              0\n",
       "goals                0\n",
       "yellowCards          0\n",
       "yellowReds           0\n",
       "redCards             0\n",
       "photoID          21407\n",
       "rater1           21407\n",
       "rater2           21407\n",
       "refNum               0\n",
       "refCountry           0\n",
       "Alpha_3              1\n",
       "meanIAT            163\n",
       "nIAT               163\n",
       "seIAT              163\n",
       "meanExp            163\n",
       "nExp               163\n",
       "seExp              163\n",
       "dtype: int64"
      ]
     },
     "execution_count": 7,
     "metadata": {},
     "output_type": "execute_result"
    }
   ],
   "source": [
    "raw_df.isnull().sum()"
   ]
  },
  {
   "cell_type": "markdown",
   "metadata": {},
   "source": [
    "So we are missing some heights, weights, and positions. That shouldn't be too important for the question we were posed. \n",
    "\n",
    "The rater data is important for this question, so we will need to fill this data. If there are duplicate players, we can possibly fill these values, or at least use group by's to handle this.\n",
    "\n",
    "We are also missing some of the implicit bias normalization info. This may be an issue, but again may be able to handle this if there are duplicates in the data.\n",
    "\n",
    "Let's see if the player id's are unique"
   ]
  },
  {
   "cell_type": "code",
   "execution_count": 6,
   "metadata": {},
   "outputs": [
    {
     "name": "stdout",
     "output_type": "stream",
     "text": [
      "False\n",
      "2053\n",
      "146028\n"
     ]
    }
   ],
   "source": [
    "print( raw_df['playerShort'].unique().shape[0] == raw_df.shape[0] )\n",
    "print( raw_df['playerShort'].unique().shape[0]  )\n",
    "print( raw_df.shape[0] )"
   ]
  },
  {
   "cell_type": "markdown",
   "metadata": {},
   "source": [
    "These are not unique, but likely tied to a player's name. Let's check what kind of numbers we are working with by player."
   ]
  },
  {
   "cell_type": "code",
   "execution_count": 13,
   "metadata": {},
   "outputs": [
    {
     "name": "stdout",
     "output_type": "stream",
     "text": [
      "playerShort\n",
      "aaron-hughes              166\n",
      "aaron-hunt                 99\n",
      "aaron-lennon              101\n",
      "aaron-ramsey              104\n",
      "abdelhamid-el-kaoutari     37\n",
      "abdon-prats                33\n",
      "abdou-dampha               18\n",
      "abdou-traore_2             42\n",
      "abdoul-camara              67\n",
      "abdoulaye-diallo_2         20\n",
      "dtype: int64\n",
      "True\n"
     ]
    }
   ],
   "source": [
    "player_group = raw_df.groupby( 'playerShort' ).size()\n",
    "\n",
    "print( player_group.head(10) )\n",
    "print( player_group.sum() == raw_df.shape[0] )"
   ]
  },
  {
   "cell_type": "markdown",
   "metadata": {},
   "source": [
    "Alright, let's do the same for refs."
   ]
  },
  {
   "cell_type": "code",
   "execution_count": 14,
   "metadata": {},
   "outputs": [
    {
     "name": "stdout",
     "output_type": "stream",
     "text": [
      "3147\n",
      "refNum\n",
      "1       1\n",
      "2       1\n",
      "3       3\n",
      "4      30\n",
      "5       1\n",
      "6       9\n",
      "7     178\n",
      "8       1\n",
      "9       3\n",
      "10      1\n",
      "dtype: int64\n"
     ]
    }
   ],
   "source": [
    "ref_group = raw_df.groupby( 'refNum' ).size()\n",
    "\n",
    "print( raw_df['refNum'].unique().shape[0] )\n",
    "print( ref_group.head(10) )"
   ]
  },
  {
   "cell_type": "markdown",
   "metadata": {},
   "source": [
    "Some refs only have 1 game! This may make some of the calibrating for biases difficult if there is missing data.\n",
    "\n",
    "Let's move to visualizing some of these."
   ]
  },
  {
   "cell_type": "code",
   "execution_count": null,
   "metadata": {},
   "outputs": [],
   "source": []
  }
 ],
 "metadata": {
  "kernelspec": {
   "display_name": "Python 3",
   "language": "python",
   "name": "python3"
  },
  "language_info": {
   "codemirror_mode": {
    "name": "ipython",
    "version": 3
   },
   "file_extension": ".py",
   "mimetype": "text/x-python",
   "name": "python",
   "nbconvert_exporter": "python",
   "pygments_lexer": "ipython3",
   "version": "3.6.5"
  }
 },
 "nbformat": 4,
 "nbformat_minor": 2
}
