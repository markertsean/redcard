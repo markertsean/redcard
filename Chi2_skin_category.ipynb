{
 "cells": [
  {
   "cell_type": "code",
   "execution_count": 4,
   "metadata": {},
   "outputs": [],
   "source": [
    "input_file_path = 'redcard.csv'"
   ]
  },
  {
   "cell_type": "markdown",
   "metadata": {},
   "source": [
    "## This analysis was done by Sean Markert, and David Riebel.\n",
    "\n",
    "\n",
    "### We split the players into light, medium, and dark skin tones. Though the location of the splits change the results, we find in our groupings, there is a highly significant difference in the number of red cards in the groups per player, via a $\\chi^2$ test."
   ]
  },
  {
   "cell_type": "code",
   "execution_count": 104,
   "metadata": {},
   "outputs": [],
   "source": [
    "import numpy  as np\n",
    "import pandas as pd\n",
    "\n",
    "import matplotlib.pyplot as plt\n",
    "\n",
    "import seaborn as sns\n",
    "\n",
    "from scipy.stats import chisquare\n",
    "\n",
    "%matplotlib inline\n",
    "plt.style.use( 'dark_background' )\n",
    "plt.rcParams[ 'figure.figsize' ] = ( 14, 10 )"
   ]
  },
  {
   "cell_type": "code",
   "execution_count": null,
   "metadata": {},
   "outputs": [],
   "source": []
  },
  {
   "cell_type": "markdown",
   "metadata": {},
   "source": [
    "Create new dataframe with no null ratings, and determine average"
   ]
  },
  {
   "cell_type": "code",
   "execution_count": 33,
   "metadata": {},
   "outputs": [],
   "source": [
    "null_rater   = raw_df[['rater1','rater2']].isnull().any( axis=1 )\n",
    "nn_rating_df = raw_df.loc[ ~null_rater, : ].copy()\n",
    "\n",
    "nn_rating_df['rating' ] = ( nn_rating_df['rater1'  ]+nn_rating_df['rater2'    ] ) / 2.\n",
    "nn_rating_df['tot_red'] = ( nn_rating_df['redCards']+nn_rating_df['yellowReds'] )"
   ]
  },
  {
   "cell_type": "markdown",
   "metadata": {},
   "source": [
    "Now let's turn this into something by player skin tone"
   ]
  },
  {
   "cell_type": "code",
   "execution_count": 79,
   "metadata": {},
   "outputs": [],
   "source": [
    "player_group = nn_rating_df.groupby( ['playerShort'] )[['tot_red','rating']]\\\n",
    "    .agg({'tot_red':'sum','rating':'mean'}).reset_index()\n",
    "\n",
    "rating_group_count = player_group.groupby( ['rating'] ).size()\\\n",
    "    .reset_index().rename(columns={0:'count'})\n",
    "\n",
    "rating_group_red = player_group.groupby( ['rating'] )['tot_red'].sum()\\\n",
    "    .reset_index().rename(columns={0:'count'})\n",
    "\n",
    "rating_group = pd.merge( \n",
    "    rating_group_count,\n",
    "    rating_group_red,\n",
    "    on='rating'\n",
    ")\n",
    "\n",
    "rating_group['red_per_player'] = rating_group['tot_red'] / rating_group['count']"
   ]
  },
  {
   "cell_type": "code",
   "execution_count": 81,
   "metadata": {},
   "outputs": [
    {
     "data": {
      "text/html": [
       "<div>\n",
       "<style scoped>\n",
       "    .dataframe tbody tr th:only-of-type {\n",
       "        vertical-align: middle;\n",
       "    }\n",
       "\n",
       "    .dataframe tbody tr th {\n",
       "        vertical-align: top;\n",
       "    }\n",
       "\n",
       "    .dataframe thead th {\n",
       "        text-align: right;\n",
       "    }\n",
       "</style>\n",
       "<table border=\"1\" class=\"dataframe\">\n",
       "  <thead>\n",
       "    <tr style=\"text-align: right;\">\n",
       "      <th></th>\n",
       "      <th>rating</th>\n",
       "      <th>count</th>\n",
       "      <th>tot_red</th>\n",
       "      <th>red_per_player</th>\n",
       "    </tr>\n",
       "  </thead>\n",
       "  <tbody>\n",
       "    <tr>\n",
       "      <th>0</th>\n",
       "      <td>0.000</td>\n",
       "      <td>424</td>\n",
       "      <td>761</td>\n",
       "      <td>1.794811</td>\n",
       "    </tr>\n",
       "    <tr>\n",
       "      <th>1</th>\n",
       "      <td>0.125</td>\n",
       "      <td>227</td>\n",
       "      <td>393</td>\n",
       "      <td>1.731278</td>\n",
       "    </tr>\n",
       "    <tr>\n",
       "      <th>2</th>\n",
       "      <td>0.250</td>\n",
       "      <td>472</td>\n",
       "      <td>1039</td>\n",
       "      <td>2.201271</td>\n",
       "    </tr>\n",
       "    <tr>\n",
       "      <th>3</th>\n",
       "      <td>0.375</td>\n",
       "      <td>77</td>\n",
       "      <td>174</td>\n",
       "      <td>2.259740</td>\n",
       "    </tr>\n",
       "    <tr>\n",
       "      <th>4</th>\n",
       "      <td>0.500</td>\n",
       "      <td>116</td>\n",
       "      <td>221</td>\n",
       "      <td>1.905172</td>\n",
       "    </tr>\n",
       "    <tr>\n",
       "      <th>5</th>\n",
       "      <td>0.625</td>\n",
       "      <td>33</td>\n",
       "      <td>38</td>\n",
       "      <td>1.151515</td>\n",
       "    </tr>\n",
       "    <tr>\n",
       "      <th>6</th>\n",
       "      <td>0.750</td>\n",
       "      <td>104</td>\n",
       "      <td>179</td>\n",
       "      <td>1.721154</td>\n",
       "    </tr>\n",
       "    <tr>\n",
       "      <th>7</th>\n",
       "      <td>0.875</td>\n",
       "      <td>40</td>\n",
       "      <td>73</td>\n",
       "      <td>1.825000</td>\n",
       "    </tr>\n",
       "    <tr>\n",
       "      <th>8</th>\n",
       "      <td>1.000</td>\n",
       "      <td>92</td>\n",
       "      <td>214</td>\n",
       "      <td>2.326087</td>\n",
       "    </tr>\n",
       "  </tbody>\n",
       "</table>\n",
       "</div>"
      ],
      "text/plain": [
       "   rating  count  tot_red  red_per_player\n",
       "0   0.000    424      761        1.794811\n",
       "1   0.125    227      393        1.731278\n",
       "2   0.250    472     1039        2.201271\n",
       "3   0.375     77      174        2.259740\n",
       "4   0.500    116      221        1.905172\n",
       "5   0.625     33       38        1.151515\n",
       "6   0.750    104      179        1.721154\n",
       "7   0.875     40       73        1.825000\n",
       "8   1.000     92      214        2.326087"
      ]
     },
     "execution_count": 81,
     "metadata": {},
     "output_type": "execute_result"
    }
   ],
   "source": [
    "rating_group"
   ]
  },
  {
   "cell_type": "code",
   "execution_count": 94,
   "metadata": {},
   "outputs": [
    {
     "data": {
      "image/png": "[encoded data removed]",
      "text/plain": [
       "<Figure size 1008x720 with 1 Axes>"
      ]
     },
     "metadata": {},
     "output_type": "display_data"
    }
   ],
   "source": [
    "fig, ax = plt.subplots( figsize=(14,10) )\n",
    "rating_group.plot.line( x='rating', y='red_per_player', linestyle='-', ax=ax )\n",
    "plt.ylabel('red cards per player')\n",
    "plt.show()"
   ]
  },
  {
   "cell_type": "code",
   "execution_count": null,
   "metadata": {},
   "outputs": [],
   "source": []
  },
  {
   "cell_type": "code",
   "execution_count": 95,
   "metadata": {},
   "outputs": [],
   "source": [
    "rating_group['skin'] = 'M'\n",
    "rating_group.loc[ rating_group['rating'] < 0.25 , 'skin' ] = 'L'\n",
    "rating_group.loc[ rating_group['rating'] > 0.375, 'skin' ] = 'D'"
   ]
  },
  {
   "cell_type": "code",
   "execution_count": 97,
   "metadata": {},
   "outputs": [
    {
     "data": {
      "text/html": [
       "<div>\n",
       "<style scoped>\n",
       "    .dataframe tbody tr th:only-of-type {\n",
       "        vertical-align: middle;\n",
       "    }\n",
       "\n",
       "    .dataframe tbody tr th {\n",
       "        vertical-align: top;\n",
       "    }\n",
       "\n",
       "    .dataframe thead th {\n",
       "        text-align: right;\n",
       "    }\n",
       "</style>\n",
       "<table border=\"1\" class=\"dataframe\">\n",
       "  <thead>\n",
       "    <tr style=\"text-align: right;\">\n",
       "      <th></th>\n",
       "      <th>rating</th>\n",
       "      <th>count</th>\n",
       "      <th>tot_red</th>\n",
       "      <th>red_per_player</th>\n",
       "      <th>skin</th>\n",
       "    </tr>\n",
       "  </thead>\n",
       "  <tbody>\n",
       "    <tr>\n",
       "      <th>0</th>\n",
       "      <td>0.000</td>\n",
       "      <td>424</td>\n",
       "      <td>761</td>\n",
       "      <td>1.794811</td>\n",
       "      <td>L</td>\n",
       "    </tr>\n",
       "    <tr>\n",
       "      <th>1</th>\n",
       "      <td>0.125</td>\n",
       "      <td>227</td>\n",
       "      <td>393</td>\n",
       "      <td>1.731278</td>\n",
       "      <td>L</td>\n",
       "    </tr>\n",
       "    <tr>\n",
       "      <th>2</th>\n",
       "      <td>0.250</td>\n",
       "      <td>472</td>\n",
       "      <td>1039</td>\n",
       "      <td>2.201271</td>\n",
       "      <td>M</td>\n",
       "    </tr>\n",
       "    <tr>\n",
       "      <th>3</th>\n",
       "      <td>0.375</td>\n",
       "      <td>77</td>\n",
       "      <td>174</td>\n",
       "      <td>2.259740</td>\n",
       "      <td>M</td>\n",
       "    </tr>\n",
       "    <tr>\n",
       "      <th>4</th>\n",
       "      <td>0.500</td>\n",
       "      <td>116</td>\n",
       "      <td>221</td>\n",
       "      <td>1.905172</td>\n",
       "      <td>D</td>\n",
       "    </tr>\n",
       "  </tbody>\n",
       "</table>\n",
       "</div>"
      ],
      "text/plain": [
       "   rating  count  tot_red  red_per_player skin\n",
       "0   0.000    424      761        1.794811    L\n",
       "1   0.125    227      393        1.731278    L\n",
       "2   0.250    472     1039        2.201271    M\n",
       "3   0.375     77      174        2.259740    M\n",
       "4   0.500    116      221        1.905172    D"
      ]
     },
     "execution_count": 97,
     "metadata": {},
     "output_type": "execute_result"
    }
   ],
   "source": [
    "rating_group.head()"
   ]
  },
  {
   "cell_type": "code",
   "execution_count": 113,
   "metadata": {},
   "outputs": [
    {
     "name": "stdout",
     "output_type": "stream",
     "text": [
      "  skin  count  tot_red  red_per_player\n",
      "0    D    385      725        1.883117\n",
      "1    L    651     1154        1.772657\n",
      "2    M    549     1213        2.209472\n"
     ]
    },
    {
     "data": {
      "image/png": "[encoded data removed]",
      "text/plain": [
       "<Figure size 1008x720 with 1 Axes>"
      ]
     },
     "metadata": {},
     "output_type": "display_data"
    }
   ],
   "source": [
    "skin_group = rating_group.groupby( 'skin' ).agg({'count':'sum','tot_red':'sum'}).reset_index()\n",
    "skin_group['red_per_player'] = skin_group['tot_red'] / skin_group['count'].astype(float)\n",
    "print(skin_group)\n",
    "fig, ax = plt.subplots( figsize=(14,10) )\n",
    "sns.barplot( data=skin_group, x='skin', y='red_per_player', ax=ax )\n",
    "plt.show()"
   ]
  },
  {
   "cell_type": "code",
   "execution_count": 114,
   "metadata": {},
   "outputs": [],
   "source": [
    "obs = skin_group['tot_red'].values\n",
    "exp = skin_group['tot_red'].sum()/3.\n",
    "exp = np.array( [exp,exp,exp] )\n",
    "\n",
    "chi2, p = chisquare( obs, exp )"
   ]
  },
  {
   "cell_type": "code",
   "execution_count": 115,
   "metadata": {},
   "outputs": [
    {
     "name": "stdout",
     "output_type": "stream",
     "text": [
      "137.66688227684347\n",
      "1.2764868440761455e-30\n"
     ]
    }
   ],
   "source": [
    "print( chi2 )\n",
    "print( p )"
   ]
  },
  {
   "cell_type": "code",
   "execution_count": null,
   "metadata": {},
   "outputs": [],
   "source": []
  },
  {
   "cell_type": "code",
   "execution_count": null,
   "metadata": {},
   "outputs": [],
   "source": []
  },
  {
   "cell_type": "code",
   "execution_count": 116,
   "metadata": {},
   "outputs": [],
   "source": [
    "rating_group['skin'] = 'M'\n",
    "rating_group.loc[ rating_group['rating'] < 0.25, 'skin' ] = 'L'\n",
    "rating_group.loc[ rating_group['rating'] > 0.25, 'skin' ] = 'D'"
   ]
  },
  {
   "cell_type": "code",
   "execution_count": 117,
   "metadata": {},
   "outputs": [
    {
     "data": {
      "text/html": [
       "<div>\n",
       "<style scoped>\n",
       "    .dataframe tbody tr th:only-of-type {\n",
       "        vertical-align: middle;\n",
       "    }\n",
       "\n",
       "    .dataframe tbody tr th {\n",
       "        vertical-align: top;\n",
       "    }\n",
       "\n",
       "    .dataframe thead th {\n",
       "        text-align: right;\n",
       "    }\n",
       "</style>\n",
       "<table border=\"1\" class=\"dataframe\">\n",
       "  <thead>\n",
       "    <tr style=\"text-align: right;\">\n",
       "      <th></th>\n",
       "      <th>rating</th>\n",
       "      <th>count</th>\n",
       "      <th>tot_red</th>\n",
       "      <th>red_per_player</th>\n",
       "      <th>skin</th>\n",
       "    </tr>\n",
       "  </thead>\n",
       "  <tbody>\n",
       "    <tr>\n",
       "      <th>0</th>\n",
       "      <td>0.000</td>\n",
       "      <td>424</td>\n",
       "      <td>761</td>\n",
       "      <td>1.794811</td>\n",
       "      <td>L</td>\n",
       "    </tr>\n",
       "    <tr>\n",
       "      <th>1</th>\n",
       "      <td>0.125</td>\n",
       "      <td>227</td>\n",
       "      <td>393</td>\n",
       "      <td>1.731278</td>\n",
       "      <td>L</td>\n",
       "    </tr>\n",
       "    <tr>\n",
       "      <th>2</th>\n",
       "      <td>0.250</td>\n",
       "      <td>472</td>\n",
       "      <td>1039</td>\n",
       "      <td>2.201271</td>\n",
       "      <td>M</td>\n",
       "    </tr>\n",
       "    <tr>\n",
       "      <th>3</th>\n",
       "      <td>0.375</td>\n",
       "      <td>77</td>\n",
       "      <td>174</td>\n",
       "      <td>2.259740</td>\n",
       "      <td>D</td>\n",
       "    </tr>\n",
       "    <tr>\n",
       "      <th>4</th>\n",
       "      <td>0.500</td>\n",
       "      <td>116</td>\n",
       "      <td>221</td>\n",
       "      <td>1.905172</td>\n",
       "      <td>D</td>\n",
       "    </tr>\n",
       "  </tbody>\n",
       "</table>\n",
       "</div>"
      ],
      "text/plain": [
       "   rating  count  tot_red  red_per_player skin\n",
       "0   0.000    424      761        1.794811    L\n",
       "1   0.125    227      393        1.731278    L\n",
       "2   0.250    472     1039        2.201271    M\n",
       "3   0.375     77      174        2.259740    D\n",
       "4   0.500    116      221        1.905172    D"
      ]
     },
     "execution_count": 117,
     "metadata": {},
     "output_type": "execute_result"
    }
   ],
   "source": [
    "rating_group.head()"
   ]
  },
  {
   "cell_type": "code",
   "execution_count": 118,
   "metadata": {},
   "outputs": [
    {
     "name": "stdout",
     "output_type": "stream",
     "text": [
      "  skin  count  tot_red  red_per_player\n",
      "0    D    462      899        1.945887\n",
      "1    L    651     1154        1.772657\n",
      "2    M    472     1039        2.201271\n"
     ]
    },
    {
     "data": {
      "image/png": "[encoded data removed]",
      "text/plain": [
       "<Figure size 1008x720 with 1 Axes>"
      ]
     },
     "metadata": {},
     "output_type": "display_data"
    }
   ],
   "source": [
    "skin_group = rating_group.groupby( 'skin' ).agg({'count':'sum','tot_red':'sum'}).reset_index()\n",
    "skin_group['red_per_player'] = skin_group['tot_red'] / skin_group['count'].astype(float)\n",
    "print(skin_group)\n",
    "fig, ax = plt.subplots( figsize=(14,10) )\n",
    "sns.barplot( data=skin_group, x='skin', y='red_per_player', ax=ax )\n",
    "plt.show()"
   ]
  },
  {
   "cell_type": "code",
   "execution_count": 119,
   "metadata": {},
   "outputs": [],
   "source": [
    "obs = skin_group['tot_red'].values\n",
    "exp = skin_group['tot_red'].sum()/3.\n",
    "exp = np.array( [exp,exp,exp] )\n",
    "\n",
    "chi2, p = chisquare( obs, exp )"
   ]
  },
  {
   "cell_type": "code",
   "execution_count": 120,
   "metadata": {},
   "outputs": [
    {
     "name": "stdout",
     "output_type": "stream",
     "text": [
      "31.64618369987063\n",
      "1.3431314639501685e-07\n"
     ]
    }
   ],
   "source": [
    "print( chi2 )\n",
    "print( p )"
   ]
  },
  {
   "cell_type": "code",
   "execution_count": null,
   "metadata": {},
   "outputs": [],
   "source": []
  }
 ],
 "metadata": {
  "kernelspec": {
   "display_name": "Python 3",
   "language": "python",
   "name": "python3"
  },
  "language_info": {
   "codemirror_mode": {
    "name": "ipython",
    "version": 3
   },
   "file_extension": ".py",
   "mimetype": "text/x-python",
   "name": "python",
   "nbconvert_exporter": "python",
   "pygments_lexer": "ipython3",
   "version": "3.6.5"
  }
 },
 "nbformat": 4,
 "nbformat_minor": 2
}
